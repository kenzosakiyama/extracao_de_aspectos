{
 "metadata": {
  "language_info": {
   "codemirror_mode": {
    "name": "ipython",
    "version": 3
   },
   "file_extension": ".py",
   "mimetype": "text/x-python",
   "name": "python",
   "nbconvert_exporter": "python",
   "pygments_lexer": "ipython3",
   "version": "3.7.7-final"
  },
  "orig_nbformat": 2,
  "kernelspec": {
   "name": "python37764bitcondae02c00d701d64665b233568d06df9a1a",
   "display_name": "Python 3.7.7 64-bit (conda)"
  }
 },
 "nbformat": 4,
 "nbformat_minor": 2,
 "cells": [
  {
   "cell_type": "code",
   "execution_count": 1,
   "metadata": {},
   "outputs": [],
   "source": [
    "import spacy\n",
    "import pandas as pd"
   ]
  },
  {
   "cell_type": "code",
   "execution_count": 2,
   "metadata": {},
   "outputs": [],
   "source": [
    "nlp = spacy.load(\"en_core_web_md\")"
   ]
  },
  {
   "cell_type": "markdown",
   "metadata": {},
   "source": [
    "# Amostrando dados para análise"
   ]
  },
  {
   "cell_type": "code",
   "execution_count": 3,
   "metadata": {},
   "outputs": [],
   "source": [
    "data_df = pd.read_csv(\"../data/tech_test.tsv\", sep=\"\\t\").sample(100)\n",
    "\n",
    "data_df = data_df[[\"review_body\", \"review_user_rating\"]]"
   ]
  },
  {
   "cell_type": "code",
   "execution_count": 4,
   "metadata": {},
   "outputs": [],
   "source": [
    "sample_txts = data_df[\"review_body\"].values\n",
    "# sample_txts = data_df[data_df[\"review_user_rating\"] == 5][\"review_body\"].values"
   ]
  },
  {
   "cell_type": "markdown",
   "metadata": {},
   "source": [
    "# Identificação de frases que se referem ao produto\n",
    "Identificação de frases em que a palavra \"refrigerator\" aparece como sujeito."
   ]
  },
  {
   "cell_type": "code",
   "execution_count": 5,
   "metadata": {},
   "outputs": [],
   "source": [
    "reference = nlp(\"refrigerator\")"
   ]
  },
  {
   "cell_type": "code",
   "execution_count": 6,
   "metadata": {
    "tags": []
   },
   "outputs": [
    {
     "output_type": "stream",
     "name": "stdout",
     "text": "If it continues I will call for service.\nWe bought this as an emergency replacement, it is larger than our old one, has a lot more room in both the fridge and the freezer.\nThe sshelves are easy to clean and the LED light is so much brighter, makes it easy to find things in both the fridge and the freezer.\nWe have a nice size kitchen but our fridge and island felt too close with our old fridge.\nIt's perfect!\nThe only reason I didn't give it 5 stars is because it gets a little tight on the inside during the holidays and birthdays.\nFrom the outside the refrigerator is quite appealing however it is too noisy.  \nThe drip tray for water does not have any holes to catch excess water so it rests on top if it drips.\nThe drip tray for water does not have any holes to catch excess water so it rests on top if it drips.\nIt has alot of room and shelf space.\nIt simply gave up it's freon one day.\nIt simply gave up it's freon one day.\nI had this refrigerator installed about a month ago.\nI've never had an ice/water dispenser, and was worried that it would taste 'off'.\nMy previous fridge lasted 27 years - hoping the same for this one.\nInside it is nice and bright also with LED lights.\nOPEN FLOOR PLAN HOME REFRIGERATOR MAKES MY HOME FEEL LIKE MILLION DOLLAR HOME\nWe had a Maytag Ice and Water through the door and the thing that upset me the most about the thing was that when you ask for some ice it just kept coming out.\nFrench Door Refrigerator with water and ice but the Ice is below in the freezer much more manageable and the top is a full cavity with room to put a lot more.\nThe water is inside the refrigerator so it is just as convenient.\nOverall great fridge just make sure you have enough help getting it up a flight of stairs.\nOverall it was four of us....\nbut great fridge very spacious\nI like the fact that it is not flimsy also nice hefty drawers.\nIt is STUNNING.\nIt does make a little noise we arenÃ¢ÂÂt sure about  sometimes, but weÃ¢ÂÂll see if it turns into anything.\nIt does make a little noise we arenÃ¢ÂÂt sure about  sometimes, but weÃ¢ÂÂll see if it turns into anything.\nThis frig fits great, stores more than the slightly larger unit we had before, and is quiet to boot!\nIt cannot keep up with a family of 4 on a warm day.  \nNot sure it should be this loud.\nThe stainless steel refrigerator rusts.\nSamsung says it's a cosmetic thing and isn't covered by warranty.  \nMy new refrigerator arrived a few hours ago.  \n, It is so tiny, I don't know what it is made to hold.\n, It is so tiny, I don't know what it is made to hold.\nIt only fits small bottles about the size of eye drops.\nIt does not accommodate 16 ounce cottage cheeses or sour cream.\nMy previous refrigerator allowed for 32 ounce yogurts to be laid on their side.  \nIt would be nice if the entire shelf retracted.  \nMost refrigerators are taller then previous generations.\nSo my choicer is to let the refrigerator stick out a foot or sand down my wooden floor.  \nI simply want a refrigerator to be a refrigerator and serve my needs.\nMy last refrigerator had water when you opened the door and ice only in the freezer which didn't take up any space.\nThat being said, I believe this refrigerator still has the most useable space of all available refrigerator from mainstream manufacturers.\nIt is loud when the compressor is running and when the ice machine is filling up.\nI like how it looks, and the sliding shelf in the fridge, and the ice on the door frees up space for a shelf in the freezer - but, this appliance runs a lot and is loud.  \nmy old fridge was much quieter.\neven tho it leaked water badly and took some investigating to find out why.\nThe ice dispenser jams a lot, unable to use the crushed ice then cube it jams up..   \nThe temperature in the fridge does not stay cold unless it maxed..\nIt's quiet, spacious, and very easy to access the food inside, especially the freezer.\nThe only thing it could use is another bin for the door on the fridge side.\nHorrible buy, whistle noise made all the time, the side is dented due to  The insulation , This is the fourth replacement fridge that they try to fix and every time it comes with the side of the fridge bubbled out from insulation\nUnfortunately I be only used this fridge for 3mnths before it gave out.  \nAt least it's being serviced under warranty.  \nMy garage refrigerator is used for beer, wine and soft drinks plus all my baking flours that last forever when refrigerated.  \nThis one actually keeps things frozen in the freezer section which my old refrigerator did not - so an extra bonus!!\nNot sure it should be this loud.\nIt does a great job while being simple and uncomplicated.  \nIt is quiet a\nI bought this 3 weeks ago and love how big it is.  \n2 months ago it's so quiet\nI thought it wasn't running.\nI like the in the door ice maker as it saves a lot of room.\nThe refrigerator has lots of room\nIf I used the crushed ice it melts within 10 minutes of filling up with water.\nMy fridge looks and works just as well any I have owned.\nThe fridge has an old school feel to it .\nIt is 20.5 cubic feet and we love the clear shelving and drawers.\nbut it still works great.\nI needed to find a new fridge for my small space, this unit not only fit the space, it is attractive, spacious and functional.  \nIt's noisy, I have to run the humidity 'thing' on the door all the time, the refrigerator temp is very inconsistent, (set on 38 and it ranges from 32 to 40), the freezer size is too small\nIt's noisy, I have to run the humidity 'thing' on the door all the time, the refrigerator temp is very inconsistent, (set on 38 and it ranges from 32 to 40), the freezer size is too small\n: it does make ice fast, finish on doors and handles great\nI got this refrigerator on sale and it was well worth the price.\nIt fits in my kitchen perfectly!\nTons of space inside, took the contents from our old fridge and put it in the new fridge and made the new fridge look bare!\nIt has worked out great just the right size not too small and not too big!\nIT'S A GREAT SIZE AND LOTS OF SPACE !!\nThis fridge looks awesome and has some cool features.\nIt has ice and water built into the freezer door on the left, and multiple shelves in each side for plenty of food storage.  \nI like the fridge not happy with the fit and finish the doors in the handles don't line up and the lower left as you face it the cord or whatever for\nThis fridge fit perfectly and the wheels made it easy to place the fridge.\nThis fridge fit perfectly and the wheels made it easy to place the fridge.\nThis fridge looks and functions great!\nHowever, it's noisy.\nThe question is will it last.\nIt was having water leak inside the refrigerator.\nThe fridge sits in a tight spot by a wall but this unit, particularly the drawers toward the bottom, is much easier to access and will be easier to keep clean.    \nand it makes a great addition to our office kitchen.\nVery nice fridge and being finger print resistant is great.\nHowever the paint is coming off on the little button for the door in the door and the paint comes off or you push the cup for the water dispenser and ice dispenser for such an expensive model it should not be doing this in less than a year.\nI love the simplicity of it yet it still has ice and water in the door.\nthe above problem the water & ice control states in the manual when you select ice a red light will come on and it don't service dept.\n94\n"
    }
   ],
   "source": [
    "i = 0\n",
    "sentences = []\n",
    "for txt in sample_txts:\n",
    "    doc = nlp(txt)\n",
    "    for sent in doc.sents:\n",
    "        for token in sent:\n",
    "            txt = token.text\n",
    "            if token.dep_ in (\"nsubj\", \"nsubjpass\") and (txt.lower() == \"it\" or token.similarity(reference) > 0.85):\n",
    "                print(sent)\n",
    "                sentences.append(sent)\n",
    "print(len(sentences))"
   ]
  },
  {
   "cell_type": "markdown",
   "metadata": {},
   "source": [
    "# Extrair adjetivos e modificadores de objetos das frases obtidas"
   ]
  },
  {
   "cell_type": "code",
   "execution_count": 7,
   "metadata": {},
   "outputs": [],
   "source": [
    "from spacy.matcher import Matcher"
   ]
  },
  {
   "cell_type": "code",
   "execution_count": 8,
   "metadata": {},
   "outputs": [],
   "source": [
    "matcher = Matcher(nlp.vocab)"
   ]
  },
  {
   "cell_type": "code",
   "execution_count": 9,
   "metadata": {},
   "outputs": [],
   "source": [
    "# pattern1 = [\n",
    "#     {'DEP': 'ROOT'},\n",
    "#     {'POS': 'ADV', 'OP':\"?\"},\n",
    "#     {'POS': 'DET', 'OP':\"?\"},\n",
    "#     {'DEP': \"npadvmod\", \"OP\": \"?\"},\n",
    "#     {'DEP':'amod', 'OP':\"?\"},\n",
    "#     {'POS':'NOUN'}\n",
    "# ]\n",
    "\n",
    "# pattern2 = [\n",
    "#     {'DEP': 'ROOT'},\n",
    "#     {'POS': 'ADV', 'OP':\"?\"},\n",
    "#     {'POS': 'DET', 'OP':\"?\"},\n",
    "#     {'DEP': \"npadvmod\", \"OP\": \"?\"},\n",
    "#     {'DEP':'amod', 'OP':\"?\"},\n",
    "#     {'POS': \"ADJ\"}\n",
    "# ]\n",
    "\n",
    "\n",
    "# pattern1 = [\n",
    "#     {'POS': 'ADV', 'OP':\"?\"},\n",
    "#     {'POS': 'DET', 'OP':\"?\"},\n",
    "#     {'DEP': \"npadvmod\", \"OP\": \"?\"},\n",
    "#     {'POS':'NOUN'}\n",
    "# ]\n",
    "\n",
    "pattern2 = [\n",
    "    # {'POS': 'DET', 'OP':\"?\"},\n",
    "    # {'DEP': \"npadvmod\", \"OP\": \"?\"},\n",
    "    # {'DEP':'amod', 'OP':\"?\"},\n",
    "    {'POS': \"ADJ\"},\n",
    "    {'POS':'NOUN', \"OP\": \"?\"}\n",
    "]\n",
    "\n",
    "# matcher.add(\"description_matcher\", None, pattern1) \n",
    "matcher.add(\"adj_matcher\", None, pattern2) "
   ]
  },
  {
   "cell_type": "code",
   "execution_count": 10,
   "metadata": {
    "tags": []
   },
   "outputs": [
    {
     "output_type": "stream",
     "name": "stdout",
     "text": "If it continues I will call for service.\n\nWe bought this as an emergency replacement, it is larger than our old one, has a lot more room in both the fridge and the freezer.\n- Matches:\n\t  larger\n\t  old\n\t  old one\n\t  more\n\t  more room\n\nThe sshelves are easy to clean and the LED light is so much brighter, makes it easy to find things in both the fridge and the freezer.\n- Matches:\n\t  easy\n\t  brighter\n\t  easy\n\nWe have a nice size kitchen but our fridge and island felt too close with our old fridge.\n- Matches:\n\t  nice\n\t  nice size\n\t  close\n\t  old\n\t  old fridge\n\nIt's perfect!\n- Matches:\n\t  perfect\n\nThe only reason I didn't give it 5 stars is because it gets a little tight on the inside during the holidays and birthdays.\n- Matches:\n\t  only\n\t  only reason\n\t  little\n\t  tight\n\nFrom the outside the refrigerator is quite appealing however it is too noisy.  \n- Matches:\n\t  appealing\n\t  noisy\n\nThe drip tray for water does not have any holes to catch excess water so it rests on top if it drips.\n- Matches:\n\t  excess\n\t  excess water\n\nThe drip tray for water does not have any holes to catch excess water so it rests on top if it drips.\n- Matches:\n\t  excess\n\t  excess water\n\nIt has alot of room and shelf space.\n\nIt simply gave up it's freon one day.\n\nIt simply gave up it's freon one day.\n\nI had this refrigerator installed about a month ago.\n\nI've never had an ice/water dispenser, and was worried that it would taste 'off'.\n- Matches:\n\t  worried\n\nMy previous fridge lasted 27 years - hoping the same for this one.\n- Matches:\n\t  previous\n\t  previous fridge\n\t  same\n\nInside it is nice and bright also with LED lights.\n- Matches:\n\t  nice\n\t  bright\n\nOPEN FLOOR PLAN HOME REFRIGERATOR MAKES MY HOME FEEL LIKE MILLION DOLLAR HOME\n- Matches:\n\t  OPEN\n\t  OPEN FLOOR\n\nWe had a Maytag Ice and Water through the door and the thing that upset me the most about the thing was that when you ask for some ice it just kept coming out.\n- Matches:\n\t  most\n\nFrench Door Refrigerator with water and ice but the Ice is below in the freezer much more manageable and the top is a full cavity with room to put a lot more.\n- Matches:\n\t  manageable\n\t  full\n\t  full cavity\n\t  more\n\nThe water is inside the refrigerator so it is just as convenient.\n- Matches:\n\t  convenient\n\nOverall great fridge just make sure you have enough help getting it up a flight of stairs.\n- Matches:\n\t  Overall\n\t  great\n\t  great fridge\n\t  sure\n\t  enough\n\t  enough help\n\nOverall it was four of us....\n\nbut great fridge very spacious\n- Matches:\n\t  great\n\t  great fridge\n\t  spacious\n\nI like the fact that it is not flimsy also nice hefty drawers.\n- Matches:\n\t  flimsy\n\t  nice\n\t  hefty\n\t  hefty drawers\n\nIt is STUNNING.\n- Matches:\n\t  STUNNING\n\nIt does make a little noise we arenÃ¢ÂÂt sure about  sometimes, but weÃ¢ÂÂll see if it turns into anything.\n- Matches:\n\t  little\n\t  little noise\n\t  sure\n\nIt does make a little noise we arenÃ¢ÂÂt sure about  sometimes, but weÃ¢ÂÂll see if it turns into anything.\n- Matches:\n\t  little\n\t  little noise\n\t  sure\n\nThis frig fits great, stores more than the slightly larger unit we had before, and is quiet to boot!\n- Matches:\n\t  great\n\t  more\n\t  larger\n\t  larger unit\n\t  quiet\n\nIt cannot keep up with a family of 4 on a warm day.  \n- Matches:\n\t  warm\n\t  warm day\n\nNot sure it should be this loud.\n- Matches:\n\t  sure\n\t  loud\n\nThe stainless steel refrigerator rusts.\n- Matches:\n\t  stainless\n\t  stainless steel\n\nSamsung says it's a cosmetic thing and isn't covered by warranty.  \n- Matches:\n\t  cosmetic\n\t  cosmetic thing\n\nMy new refrigerator arrived a few hours ago.  \n- Matches:\n\t  new\n\t  new refrigerator\n\t  few\n\t  few hours\n\n, It is so tiny, I don't know what it is made to hold.\n- Matches:\n\t  tiny\n\n, It is so tiny, I don't know what it is made to hold.\n- Matches:\n\t  tiny\n\nIt only fits small bottles about the size of eye drops.\n- Matches:\n\t  small\n\t  small bottles\n\nIt does not accommodate 16 ounce cottage cheeses or sour cream.\n- Matches:\n\t  sour\n\t  sour cream\n\nMy previous refrigerator allowed for 32 ounce yogurts to be laid on their side.  \n- Matches:\n\t  previous\n\t  previous refrigerator\n\nIt would be nice if the entire shelf retracted.  \n- Matches:\n\t  nice\n\t  entire\n\t  entire shelf\n\nMost refrigerators are taller then previous generations.\n- Matches:\n\t  Most\n\t  Most refrigerators\n\t  taller\n\t  previous\n\t  previous generations\n\nSo my choicer is to let the refrigerator stick out a foot or sand down my wooden floor.  \n- Matches:\n\t  wooden\n\t  wooden floor\n\nI simply want a refrigerator to be a refrigerator and serve my needs.\n\nMy last refrigerator had water when you opened the door and ice only in the freezer which didn't take up any space.\n- Matches:\n\t  last\n\t  last refrigerator\n\nThat being said, I believe this refrigerator still has the most useable space of all available refrigerator from mainstream manufacturers.\n- Matches:\n\t  useable\n\t  useable space\n\t  available\n\t  available refrigerator\n\nIt is loud when the compressor is running and when the ice machine is filling up.\n- Matches:\n\t  loud\n\nI like how it looks, and the sliding shelf in the fridge, and the ice on the door frees up space for a shelf in the freezer - but, this appliance runs a lot and is loud.  \n- Matches:\n\t  loud\n\nmy old fridge was much quieter.\n- Matches:\n\t  old\n\t  old fridge\n\t  quieter\n\neven tho it leaked water badly and took some investigating to find out why.\n\nThe ice dispenser jams a lot, unable to use the crushed ice then cube it jams up..   \n- Matches:\n\t  unable\n\t  crushed\n\t  crushed ice\n\nThe temperature in the fridge does not stay cold unless it maxed..\n- Matches:\n\t  cold\n\nIt's quiet, spacious, and very easy to access the food inside, especially the freezer.\n- Matches:\n\t  quiet\n\t  spacious\n\t  easy\n\nThe only thing it could use is another bin for the door on the fridge side.\n- Matches:\n\t  only\n\t  only thing\n\nHorrible buy, whistle noise made all the time, the side is dented due to  The insulation , This is the fourth replacement fridge that they try to fix and every time it comes with the side of the fridge bubbled out from insulation\n- Matches:\n\t  Horrible\n\t  Horrible buy\n\t  fourth\n\t  fourth replacement\n\nUnfortunately I be only used this fridge for 3mnths before it gave out.  \n\nAt least it's being serviced under warranty.  \n- Matches:\n\t  least\n\nMy garage refrigerator is used for beer, wine and soft drinks plus all my baking flours that last forever when refrigerated.  \n- Matches:\n\t  soft\n\t  soft drinks\n\t  last\n\nThis one actually keeps things frozen in the freezer section which my old refrigerator did not - so an extra bonus!!\n- Matches:\n\t  old\n\t  old refrigerator\n\t  extra\n\t  extra bonus\n\nNot sure it should be this loud.\n- Matches:\n\t  sure\n\t  loud\n\nIt does a great job while being simple and uncomplicated.  \n- Matches:\n\t  great\n\t  great job\n\t  simple\n\t  uncomplicated\n\nIt is quiet a\n- Matches:\n\t  quiet\n\nI bought this 3 weeks ago and love how big it is.  \n- Matches:\n\t  big\n\n2 months ago it's so quiet\n- Matches:\n\t  quiet\n\nI thought it wasn't running.\n\nI like the in the door ice maker as it saves a lot of room.\n\nThe refrigerator has lots of room\n\nIf I used the crushed ice it melts within 10 minutes of filling up with water.\n- Matches:\n\t  crushed\n\t  crushed ice\n\nMy fridge looks and works just as well any I have owned.\n\nThe fridge has an old school feel to it .\n- Matches:\n\t  old\n\t  old school\n\nIt is 20.5 cubic feet and we love the clear shelving and drawers.\n- Matches:\n\t  cubic\n\t  cubic feet\n\t  clear\n\t  clear shelving\n\nbut it still works great.\n- Matches:\n\t  great\n\nI needed to find a new fridge for my small space, this unit not only fit the space, it is attractive, spacious and functional.  \n- Matches:\n\t  new\n\t  new fridge\n\t  small\n\t  small space\n\t  attractive\n\t  spacious\n\t  functional\n\nIt's noisy, I have to run the humidity 'thing' on the door all the time, the refrigerator temp is very inconsistent, (set on 38 and it ranges from 32 to 40), the freezer size is too small\n- Matches:\n\t  noisy\n\t  inconsistent\n\t  small\n\nIt's noisy, I have to run the humidity 'thing' on the door all the time, the refrigerator temp is very inconsistent, (set on 38 and it ranges from 32 to 40), the freezer size is too small\n- Matches:\n\t  noisy\n\t  inconsistent\n\t  small\n\n: it does make ice fast, finish on doors and handles great\n- Matches:\n\t  great\n\nI got this refrigerator on sale and it was well worth the price.\n- Matches:\n\t  worth\n\nIt fits in my kitchen perfectly!\n\nTons of space inside, took the contents from our old fridge and put it in the new fridge and made the new fridge look bare!\n- Matches:\n\t  old\n\t  old fridge\n\t  new\n\t  new fridge\n\t  new\n\t  new fridge\n\t  bare\n\nIt has worked out great just the right size not too small and not too big!\n- Matches:\n\t  right\n\t  right size\n\t  small\n\t  big\n\nIT'S A GREAT SIZE AND LOTS OF SPACE !!\n- Matches:\n\t  GREAT\n\t  GREAT SIZE\n\nThis fridge looks awesome and has some cool features.\n- Matches:\n\t  awesome\n\t  cool\n\t  cool features\n\nIt has ice and water built into the freezer door on the left, and multiple shelves in each side for plenty of food storage.  \n- Matches:\n\t  multiple\n\t  multiple shelves\n\nI like the fridge not happy with the fit and finish the doors in the handles don't line up and the lower left as you face it the cord or whatever for\n- Matches:\n\t  happy\n\t  lower\n\t  lower left\n\nThis fridge fit perfectly and the wheels made it easy to place the fridge.\n- Matches:\n\t  easy\n\nThis fridge fit perfectly and the wheels made it easy to place the fridge.\n- Matches:\n\t  easy\n\nThis fridge looks and functions great!\n- Matches:\n\t  great\n\nHowever, it's noisy.\n- Matches:\n\t  noisy\n\nThe question is will it last.\n\nIt was having water leak inside the refrigerator.\n\nThe fridge sits in a tight spot by a wall but this unit, particularly the drawers toward the bottom, is much easier to access and will be easier to keep clean.    \n- Matches:\n\t  tight\n\t  tight spot\n\t  easier\n\t  easier\n\t  clean\n\nand it makes a great addition to our office kitchen.\n- Matches:\n\t  great\n\t  great addition\n\nVery nice fridge and being finger print resistant is great.\n- Matches:\n\t  nice\n\t  nice fridge\n\t  resistant\n\t  great\n\nHowever the paint is coming off on the little button for the door in the door and the paint comes off or you push the cup for the water dispenser and ice dispenser for such an expensive model it should not be doing this in less than a year.\n- Matches:\n\t  little\n\t  little button\n\t  expensive\n\t  expensive model\n\t  less\n\nI love the simplicity of it yet it still has ice and water in the door.\n\nthe above problem the water & ice control states in the manual when you select ice a red light will come on and it don't service dept.\n- Matches:\n\t  above\n\t  above problem\n\t  red\n\t  red light\n\n"
    }
   ],
   "source": [
    "for sent in sentences:\n",
    "    print(sent)\n",
    "    matches = matcher(sent)\n",
    "    # print(matches)\n",
    "    if len(matches) > 0:\n",
    "        print(\"- Matches:\")\n",
    "        for match in matches:\n",
    "            print(\"\\t \",sent[match[1]:match[2]])\n",
    "    # print(matcher(sent))\n",
    "    print()"
   ]
  },
  {
   "cell_type": "code",
   "execution_count": 11,
   "metadata": {
    "tags": []
   },
   "outputs": [
    {
     "output_type": "stream",
     "name": "stdout",
     "text": "strange, amod, ADJ\nnoises, ROOT, NOUN\n"
    }
   ],
   "source": [
    "doc = nlp(\"strange noises\")\n",
    "for tok in doc:\n",
    "    print(\"{}, {}, {}\".format(tok, tok.dep_, tok.pos_))"
   ]
  },
  {
   "cell_type": "code",
   "execution_count": 12,
   "metadata": {},
   "outputs": [
    {
     "output_type": "execute_result",
     "data": {
      "text/plain": "False"
     },
     "metadata": {},
     "execution_count": 12
    }
   ],
   "source": [
    "doc[0].is_stop"
   ]
  },
  {
   "cell_type": "code",
   "execution_count": 13,
   "metadata": {},
   "outputs": [],
   "source": [
    "from textacy.extract import subject_verb_object_triples, entities, ngrams, noun_chunks, semistructured_statements"
   ]
  },
  {
   "cell_type": "code",
   "execution_count": 14,
   "metadata": {
    "tags": []
   },
   "outputs": [
    {
     "output_type": "stream",
     "name": "stdout",
     "text": "[]\n[(We, bought, this)]\n[]\n[]\n[]\n[(I, didn't give, it), (I, didn't give, stars)]\n[]\n[]\n[]\n[]\n[(It, gave, freon)]\n[(It, gave, freon)]\n[]\n[(I, 've never had, water dispenser)]\n[]\n[]\n[]\n[(that, upset, me), (that, upset, most), (it, kept, coming)]\n[]\n[]\n[]\n[]\n[]\n[(I, like, fact)]\n[]\n[(It, does make, noise)]\n[(It, does make, noise)]\n[]\n[]\n[]\n[]\n[]\n[]\n[(it, is made, to hold)]\n[(it, is made, to hold)]\n[(It, fits, bottles)]\n[(It, does not accommodate, ounce cottage cheeses), (It, does not accommodate, cream)]\n[]\n[]\n[]\n[(refrigerator, stick, foot), (refrigerator, stick, sand)]\n[]\n[(you, opened, door), (which, didn't take, space)]\n[]\n[]\n[(ice, frees, space), (appliance, runs, lot)]\n[]\n[(it, leaked, water)]\n[(ice dispenser, jams, lot)]\n[]\n[]\n[]\n[(they, try, to fix)]\n[(I, used, fridge)]\n[]\n[]\n[(one, keeps, things), (one, keeps, frozen)]\n[]\n[]\n[]\n[]\n[]\n[]\n[(I, like, the), (it, saves, lot)]\n[]\n[(I, used, ice)]\n[]\n[]\n[(we, love, shelving), (we, love, drawers)]\n[]\n[(I, needed, to find), (unit, fit, space)]\n[]\n[]\n[]\n[(I, got, refrigerator)]\n[]\n[(Tons, took, contents)]\n[]\n[]\n[]\n[]\n[(you, face, it), (you, face, cord), (you, face, whatever)]\n[]\n[]\n[]\n[]\n[]\n[(It, was having, water leak)]\n[]\n[(it, makes, addition)]\n[]\n[(you, push, cup), (it, should not be doing, this)]\n[(I, love, simplicity)]\n[(you, select, ice)]\n"
    }
   ],
   "source": [
    "for sent in sentences:\n",
    "    print(list(subject_verb_object_triples(sent)))\n",
    "    # print(list(entities(sent)))"
   ]
  },
  {
   "cell_type": "code",
   "execution_count": 15,
   "metadata": {},
   "outputs": [],
   "source": [
    "raw_text = \"\\n\".join(sample_txts)"
   ]
  },
  {
   "cell_type": "code",
   "execution_count": 16,
   "metadata": {},
   "outputs": [
    {
     "output_type": "execute_result",
     "data": {
      "text/plain": "[LOVE LOVE LOVE,\n LOVE our new,\n buy more groceries,\n review was collected,\n ice crystals forming,\n love the look,\n French door unit,\n FIXING the issue,\n Needed a fridge,\n counter depth refrigerator,\n dual ice makers,\n review was collected,\n lot more room,\n sshelves are easy,\n review was collected,\n nice size kitchen,\n chose counter depth,\n little more room,\n gets a little,\n good thing tetras,\n review was collected,\n interior is bright,\n outside the refrigerator,\n catch excess water,\n review was collected,\n live the ice,\n review was collected,\n refrigerator a month,\n review was collected,\n review was collected,\n lock is easy,\n open door alarm,\n review was collected,\n like the overall,\n review was collected,\n replace my ancient,\n lighting is excellent,\n previous fridge lasted,\n review was collected,\n love the new,\n new auto fill,\n auto fill feature,\n bought my Frigidaire,\n Frigidaire a couple,\n review was collected,\n like the room,\n Ice machine runs,\n reset new refrigerator,\n bought all new,\n wish the item,\n item would light,\n verses a white,\n ICE MACHINE WORKS,\n MACHINE WORKS GREAT,\n OPEN FLOOR PLAN,\n MAKES MY HOME,\n Ice maker works,\n thing that upset,\n thing the ice,\n refrigerator cavity took,\n review was collected,\n purchased the appliances,\n company that delivered,\n installed the appliances,\n installation was completed,\n Overall great fridge,\n friend his shoulder,\n like the fact,\n nice hefty drawers,\n review was collected,\n new all time,\n time favorite fridge,\n chose the beautiful,\n saving beverage door,\n making a quick,\n quick beverage grab,\n beverage grab easy,\n bought our refri,\n refri last month,\n love the space,\n double ice maker,\n review was collected,\n Enjoying our new,\n view frozen items,\n love the middle,\n ice dispenser design,\n Great attractive look,\n review was collected,\n replace an older,\n frig fits great,\n review was collected,\n itÃ¢ÂÂs a large,\n review was collected,\n use a remote,\n remote temp sensor,\n door is ajar,\n ajar a bit,\n year old fridge,\n shrink wrap impossible,\n taken a little,\n review was collected,\n compressor is utilizing,\n dispenser are spot,\n crystals are forming,\n pulled the trigger,\n use the screen,\n review was collected,\n find a new,\n like the stainless,\n developed health problems,\n review was collected,\n stainless steel refrigerator,\n steel refrigerator rusts,\n Sounds bizarre right,\n avoid this product,\n cheap flimsy plastic,\n ice maker went,\n new refrigerator arrived,\n divider are helpful,\n like the refrigerator,\n knowing my perceived,\n left door bins,\n accommodate round items,\n limits their usefulness,\n fits small bottles,\n accommodate larger items,\n packaged cheese slices,\n find the cheese,\n fit my organizer,\n lay the cheeses,\n deli drawer accommodates,\n drawer accommodates individual,\n accommodates individual yogurts,\n stack the yogurts,\n ounce cottage cheeses,\n previous refrigerator allowed,\n like a deli,\n know many people,\n second ice maker,\n large door bins,\n bins an option,\n large stock pots,\n accommodate a stock,\n remove a shelf,\n entire shelf retracted,\n company make refrigerators,\n days researching refrigerators,\n visiting multiple stores,\n refrigerators are taller,\n large size refrigerators,\n removing the hinge,\n let the refrigerator,\n bought the refrigerator,\n personal preference issue,\n know many people,\n need a door,\n things that break,\n want a refrigerator,\n serve my needs,\n refrigerator had water,\n opened the door,\n extras the usable,\n want a practical,\n believe this refrigerator,\n love the space,\n compressor is running,\n machine is filling,\n review was collected,\n getting the correct,\n match older appliances,\n love the sliding,\n way the shelves,\n request the builder,\n install this model,\n like the favorite,\n favorite fill feature,\n design is excellent,\n review was collected,\n runs a lot,\n fridge looks cheap,\n ice maker takes,\n took some investigating,\n Water doesnÃ¢ÂÂt leak,\n review was collected,\n developed health problems,\n ice dispenser jams,\n jams a lot,\n use the crushed,\n review was collected,\n access the food,\n fourth replacement fridge,\n review was collected,\n review was collected,\n replace an ancient,\n refrigerator that lives,\n keeps things frozen,\n like the touch,\n normal detergent works,\n compressor is utilizing,\n dispenser are spot,\n crystals are forming,\n love this refrigerator,\n book is easy,\n temp is right,\n review was collected,\n Love the way,\n way the shelves,\n need my chest,\n review was collected,\n Love the modern,\n modern industrial look,\n sheÃ¢ÂÂs a beaut,\n review was collected,\n purchased this 22cf,\n purchased this model,\n Bought this refrigerator,\n door ice maker,\n saves a lot,\n refrigerator has lots,\n love the deli,\n review was collected,\n love the convenience,\n review was collected,\n old school feel,\n close a door,\n feel the tight,\n review was collected,\n find these days,\n love the clear,\n review was collected,\n want the ice,\n door storage space,\n ItÃ¢ÂÂs an opportunity,\n review was collected,\n review was collected,\n clean a shelf,\n review was collected,\n find a new,\n fit the space,\n Style meets function,\n outweighed my expectations,\n review was collected,\n run the humidity,\n like the open,\n open baskets opening,\n review was collected,\n dispenser is located,\n dispense the water,\n button is hard,\n love the color,\n got this refrigerator,\n worth the price,\n Love this fridge,\n took the contents,\n new fridge look,\n fridge look bare,\n Ice cold water,\n Decent freezer space,\n designated deep freeze,\n bought this refridgerator,\n review was collected,\n drawer is perfect,\n love the clear,\n love the large,\n review was collected,\n Left side door,\n Right side gap,\n holes were predrilled,\n guest were amazed,\n review was collected,\n fridge looks awesome,\n sound bar isnÃ¢ÂÂt,\n bar isnÃ¢ÂÂt audiophile,\n like the gimmicks,\n novelty will wear,\n design makes use,\n got our new,\n review was collected,\n like the fridge,\n finish the doors,\n closures is exposed,\n review was collected,\n love this refrigerator,\n likes the older,\n review was collected,\n love the flex,\n ice maker leaks,\n maker leaks water,\n fridge is fixed,\n place the fridge,\n review was collected,\n review was collected,\n review was collected,\n having water leak,\n leak is stopped,\n review was collected,\n love the middle,\n middle extra drawer,\n extra wide opening,\n small office kitchen,\n finish is lovely,\n interiors are great,\n love the elegant,\n frameless glass shelves,\n outer dispenser sits,\n makes a great,\n finger print resistant,\n resistant is great,\n Love the refrigerator,\n paint is coming,\n push the cup,\n glass access door,\n love the simplicity,\n review was collected,\n ice a red,\n light will come,\n review was collected,\n like the size,\n ice machine stopped,\n machine stopped working,\n replace the ice,\n filters are expenses,\n review was collected]"
     },
     "metadata": {},
     "execution_count": 16
    }
   ],
   "source": [
    "list(ngrams(nlp(raw_text), n=3, include_pos=[\"ADJ\",\"AUX\", \"NOUN\", \"VERB\", \"DET\", \"CONJ\"] ,min_freq=1))"
   ]
  },
  {
   "cell_type": "code",
   "execution_count": 17,
   "metadata": {
    "tags": []
   },
   "outputs": [
    {
     "output_type": "stream",
     "name": "stdout",
     "text": "[it, I, service]\n[We, emergency replacement, it, old one, lot more room, both the fridge, freezer]\n[sshelves, LED light, it, things, both the fridge, freezer]\n[We, nice size kitchen, fridge, island, old fridge]\n[It]\n[only reason, I, it, 5 stars, it, inside, holidays, birthdays]\n[outside, refrigerator, it]\n[drip tray, water, holes, excess water, it, top, it]\n[drip tray, water, holes, excess water, it, top, it]\n[It, alot, room, shelf space]\n[It, it]\n[It, it]\n[I, refrigerator]\n[I, ice/water dispenser, it]\n[previous fridge, one]\n[it, LED lights]\n[OPEN FLOOR PLAN HOME REFRIGERATOR, MILLION DOLLAR HOME]\n[We, Maytag Ice, Water, door, thing, me, thing, you, ice, it]\n[French Door Refrigerator, water, ice, Ice, freezer, top, full cavity, room]\n[water, refrigerator, it]\n[Overall great fridge, you, enough help, it, flight, stairs]\n[it, us]\n[great fridge]\n[I, fact, it, nice hefty drawers]\n[It]\n[It, little noise, we, weÃ¢ÂÂll, it, anything]\n[It, little noise, we, weÃ¢ÂÂll, it, anything]\n[frig, slightly larger unit, we, boot]\n[It, family, warm day]\n[it]\n[stainless steel refrigerator]\n[Samsung, it, cosmetic thing, warranty]\n[new refrigerator]\n[It, I, what, it]\n[It, I, what, it]\n[It, small bottles, size, eye drops]\n[It, 16 ounce cottage cheeses, sour cream]\n[previous refrigerator, 32 ounce yogurts, side]\n[It, entire shelf]\n[Most refrigerators, previous generations]\n[choicer, refrigerator, foot, sand, wooden floor]\n[I, refrigerator, refrigerator, needs]\n[last refrigerator, water, you, door, freezer, space]\n[I, refrigerator, most useable space, available refrigerator, mainstream manufacturers]\n[It, compressor, ice machine]\n[I, it, sliding shelf, fridge, ice, door, space, shelf, freezer, appliance, lot]\n[old fridge]\n[it, water, investigating]\n[ice dispenser, lot, crushed ice, it]\n[temperature, fridge, it]\n[It, food, especially the freezer]\n[only thing, it, bin, door, fridge side]\n[Horrible buy, whistle noise, side, insulation, fourth replacement fridge, they, it, side, fridge, insulation]\n[I, fridge, it]\n[it, warranty]\n[garage refrigerator, beer, wine, soft drinks]\n[one, things, freezer section, old refrigerator, - so an extra bonus]\n[it]\n[It, great job]\n[It]\n[I, it]\n[it]\n[I, it]\n[I, door ice maker, it, lot, room]\n[refrigerator, lots, room]\n[I, crushed ice, it, 10 minutes, water]\n[fridge, I]\n[fridge, old school, it]\n[It, 20.5 cubic feet, we, clear shelving, drawers]\n[it]\n[I, new fridge, small space, unit, space, it]\n[It, I, humidity 'thing, door, refrigerator temp, it, freezer size]\n[It, I, humidity 'thing, door, refrigerator temp, it, freezer size]\n[it, ice, doors]\n[I, refrigerator, sale, it]\n[It, kitchen]\n[Tons, space, contents, old fridge, it, new fridge, new fridge]\n[It]\n[IT, GREAT SIZE, LOTS, SPACE]\n[fridge, cool features]\n[It, ice, water, freezer door, left, multiple shelves, side, plenty, food storage]\n[I, fridge, fit, doors, handles, you, it, cord]\n[fridge, wheels, it, fridge]\n[fridge, wheels, it, fridge]\n[fridge, functions]\n[it]\n[question, it]\n[It, water leak, refrigerator]\n[fridge, tight spot, wall, unit, particularly the drawers, bottom]\n[it, great addition, office kitchen]\n[Very nice fridge]\n[paint, little button, door, door, paint, you, cup, water dispenser, ice dispenser, an expensive model, it, less than a year]\n[I, simplicity, it, it, ice, water, door]\n[above problem, water & ice control states, manual, you, ice, red light, it, dept.]\n"
    }
   ],
   "source": [
    "for sent in sentences:\n",
    "    print(list(noun_chunks(sent)))\n",
    "    # print(list(entities(sent)))"
   ]
  },
  {
   "cell_type": "code",
   "execution_count": 19,
   "metadata": {
    "tags": []
   },
   "outputs": [
    {
     "output_type": "stream",
     "name": "stdout",
     "text": "[]\n[]\n[]\n[]\n[(it, is, larger than our old one)]\n[]\n[]\n[]\n[(it, is, too noisy)]\n[]\n[]\n[]\n[]\n[]\n[]\n[]\n[]\n[(it, is, nice and bright also with LED lights)]\n[]\n[]\n[]\n[]\n[(it, is, just as convenient)]\n[]\n[(it, was, four of us)]\n[(it, is, not flimsy also nice hefty drawers)]\n[]\n[]\n[]\n[]\n[]\n[]\n[]\n[]\n[(it, should be, this loud)]\n[]\n[]\n[]\n[(it, 's, a cosmetic thing and isn't covered by warranty)]\n[]\n[(It, is, so tiny), (It, would be, nice if the entire shelf retracted.  )]\n[(It, is, loud when the compressor is running and when the ice machine is filling up)]\n[]\n[]\n[]\n[]\n[]\n[]\n[]\n[]\n[]\n[(It, 's, quiet, spacious, and very easy to access the food inside, especially the freezer)]\n[]\n[]\n[]\n[]\n[]\n[(it, should be, this loud)]\n[]\n[]\n[]\n[(it, 's, so quiet)]\n[]\n[]\n[]\n[(It, is, 20.5 cubic feet and we love the clear shelving and drawers)]\n[]\n[]\n[]\n[(it, is, attractive, spacious and functional.  )]\n[]\n[]\n[(it, was, well worth the price)]\n[]\n[]\n[]\n[]\n[(IT, 'S, A GREAT SIZE AND LOTS OF SPACE)]\n[]\n[]\n[]\n[]\n[]\n[]\n[]\n[]\n[]\n[]\n[]\n[]\n[]\n[]\n[]\n[]\n[]\n[]\n[]\n[]\n[]\n[]\n"
    }
   ],
   "source": [
    "for sent in sample_txts:\n",
    "    print(list(semistructured_statements(nlp(sent), \"it\")))\n",
    "    # print(list(entities(sent)))"
   ]
  },
  {
   "cell_type": "code",
   "execution_count": null,
   "metadata": {},
   "outputs": [],
   "source": []
  }
 ]
}