{
 "metadata": {
  "language_info": {
   "codemirror_mode": {
    "name": "ipython",
    "version": 3
   },
   "file_extension": ".py",
   "mimetype": "text/x-python",
   "name": "python",
   "nbconvert_exporter": "python",
   "pygments_lexer": "ipython3",
   "version": "3.7.7-final"
  },
  "orig_nbformat": 2,
  "kernelspec": {
   "name": "python37764bitf48e24b4fff74154926ea0ca69c736ad",
   "display_name": "Python 3.7.7 64-bit"
  }
 },
 "nbformat": 4,
 "nbformat_minor": 2,
 "cells": [
  {
   "cell_type": "code",
   "execution_count": 1,
   "metadata": {},
   "outputs": [],
   "source": [
    "import pandas as pd \n",
    "import json"
   ]
  },
  {
   "cell_type": "markdown",
   "metadata": {},
   "source": [
    "# Carregando os dados"
   ]
  },
  {
   "cell_type": "code",
   "execution_count": 2,
   "metadata": {},
   "outputs": [],
   "source": [
    "data_df = pd.read_csv(\"../data/tech_test.tsv\", sep=\"\\t\")"
   ]
  },
  {
   "cell_type": "code",
   "execution_count": 4,
   "metadata": {},
   "outputs": [
    {
     "output_type": "execute_result",
     "data": {
      "text/plain": "Index(['retailer', 'category', 'breadcrumb', 'brand', 'offer_url', 'offer_sku',\n       'offer_retailer', 'offer_title', 'title_keywords', 'price', 'specs',\n       'offer_last_update_at', 'review_id', 'review_title', 'review_body',\n       'review_user_rating', 'review_posted_at', 'review_year', 'review_month',\n       'review_week', 'review_day', 'review_collected_at', 'locale',\n       'original_offer', 'variant'],\n      dtype='object')"
     },
     "metadata": {},
     "execution_count": 4
    }
   ],
   "source": [
    "data_df.columns"
   ]
  },
  {
   "cell_type": "code",
   "execution_count": 5,
   "metadata": {},
   "outputs": [
    {
     "output_type": "execute_result",
     "data": {
      "text/plain": "         retailer       category  \\\n0           lowes  Refrigerators   \n1           lowes  Refrigerators   \n2           lowes  Refrigerators   \n3      bestbuy_us  Refrigerators   \n4      bestbuy_us  Refrigerators   \n...           ...            ...   \n20468       lowes  Refrigerators   \n20469       lowes  Refrigerators   \n20470       lowes  Refrigerators   \n20471       lowes  Refrigerators   \n20472       lowes  Refrigerators   \n\n                                              breadcrumb             brand  \\\n0      [\"Appliances\", \"Refrigerators\", \"Side-by-Side ...  General Electric   \n1      [\"Appliances\", \"Refrigerators\", \"Side-by-Side ...  General Electric   \n2      [\"Appliances\", \"Refrigerators\", \"French Door R...        Frigidaire   \n3      [\"Best Buy\", \"Appliances\", \"Refrigerators\", \"B...         Whirlpool   \n4      [\"Best Buy\", \"Appliances\", \"Refrigerators\", \"B...         Whirlpool   \n...                                                  ...               ...   \n20468  [\"Appliances\", \"Refrigerators\", \"Top-Freezer R...         Whirlpool   \n20469  [\"Appliances\", \"Refrigerators\", \"Top-Freezer R...         Whirlpool   \n20470  [\"Appliances\", \"Refrigerators\", \"Top-Freezer R...         Whirlpool   \n20471  [\"Appliances\", \"Refrigerators\", \"French Door R...        Kitchenaid   \n20472  [\"Appliances\", \"Refrigerators\", \"French Door R...  General Electric   \n\n                                               offer_url   offer_sku  \\\n0      https://www.lowes.com/pd/GE-25-3-cu-ft-Side-by...  1000859768   \n1      https://www.lowes.com/pd/GE-25-1-cu-ft-Side-by...  1000859852   \n2      https://www.lowes.com/pd/Frigidaire-Gallery-21...  1000289721   \n3      https://www.bestbuy.com/site/whirlpool-21-9-cu...     3928039   \n4      https://www.bestbuy.com/site/whirlpool-21-9-cu...     3979801   \n...                                                  ...         ...   \n20468  https://www.lowes.com/pd/Whirlpool-18-2-cu-ft-...    50285239   \n20469  https://www.lowes.com/pd/Whirlpool-18-2-cu-ft-...    50285241   \n20470  https://www.lowes.com/pd/Whirlpool-18-2-cu-ft-...  1000940596   \n20471  https://www.lowes.com/pd/KitchenAid-25-8-cu-ft...  1000029093   \n20472  https://www.lowes.com/pd/GE-Profile-Keurig-K-C...  1002619128   \n\n      offer_retailer                                        offer_title  \\\n0              lowes  GE 25.3-cu ft Side-by-Side Refrigerator with I...   \n1              lowes  GE 25.1-cu ft Side-by-Side Refrigerator with I...   \n2              lowes  Frigidaire Gallery 21.7-cu ft Counter-depth Fr...   \n3         bestbuy_us  Whirlpool - 21.9 Cu. Ft. Bottom-Freezer Refrig...   \n4         bestbuy_us  Whirlpool - 21.9 Cu. Ft. Bottom-Freezer Refrig...   \n...              ...                                                ...   \n20468          lowes  Whirlpool 18.2-cu ft Top-Freezer Refrigerator ...   \n20469          lowes  Whirlpool 18.2-cu ft Top-Freezer Refrigerator ...   \n20470          lowes  Whirlpool 18.2-cu ft Top-Freezer Refrigerator ...   \n20471          lowes  KitchenAid 25.8-cu ft 5-Door French Door Refri...   \n20472          lowes  GE Profile Keurig K-CUP Brewing System 18.66-c...   \n\n                                          title_keywords  price  ...  \\\n0      25.3':2 'by':7 'cu':3 'fingerprint':14 'finger...    NaN  ...   \n1      25.1':2 'black':13 'by':7 'cu':3 'ft':4 'ge':1...    NaN  ...   \n2      21.7':3 'counter':7 'counter-depth':6 'cu':4 '...    NaN  ...   \n3      21.9':2 'bottom':6 'bottom-freezer':5 'cu':3 '...    NaN  ...   \n4      21.9':2 'black':9 'bottom':6 'bottom-freezer':...    NaN  ...   \n...                                                  ...    ...  ...   \n20468  18.2':2 'cu':3 'freezer':7 'ft':4 'refrigerato...    NaN  ...   \n20469  18.2':2 'cu':3 'freezer':7 'ft':4 'monochromat...    NaN  ...   \n20470  18.2':2 'cu':3 'freezer':7 'ft':4 'ice':10 'ma...    NaN  ...   \n20471  25.8':2 '5':5 'black':16 'cu':3 'door':6,8 'fi...    NaN  ...   \n20472  18.66':9 'brewing':7 'cu':10 'cup':6 'door':13...    NaN  ...   \n\n      review_user_rating review_posted_at review_year review_month  \\\n0                      3       2020-03-23        2020            3   \n1                      3       2020-03-23        2020            3   \n2                      5       2019-09-28        2019            9   \n3                      5       2019-12-13        2019           12   \n4                      5       2019-12-13        2019           12   \n...                  ...              ...         ...          ...   \n20468                  4       2019-02-14        2019            2   \n20469                  4       2019-02-14        2019            2   \n20470                  4       2019-02-14        2019            2   \n20471                  3       2020-01-23        2020            1   \n20472                  5       2020-05-26        2020            5   \n\n      review_week  review_day  review_collected_at  locale  original_offer  \\\n0              13          23  2020-04-24 15:58:56      us            True   \n1              13          23  2020-04-24 14:55:13      us           False   \n2              39          28  2020-03-30 23:53:02      us            True   \n3              50          13  2020-04-28 14:09:38      us            True   \n4              50          13  2020-04-28 14:09:42      us           False   \n...           ...         ...                  ...     ...             ...   \n20468           7          14  2020-03-30 23:16:36      us           False   \n20469           7          14  2020-04-24 18:01:58      us           False   \n20470           7          14   2020-06-07 5:25:35      us            True   \n20471           4          23  2020-03-30 22:58:38      us            True   \n20472          22          26   2020-06-07 2:00:11      us            True   \n\n                                            variant  \n0                      ['1000859768', '1000859852']  \n1                      ['1000859768', '1000859852']  \n2                                    ['1000289721']  \n3      ['3928039', '3928048', '3979801', '6112639']  \n4      ['3928039', '3928048', '3979801', '6112639']  \n...                                             ...  \n20468        ['1000940596', '50285239', '50285241']  \n20469        ['1000940596', '50285239', '50285241']  \n20470        ['1000940596', '50285239', '50285241']  \n20471                                ['1000029093']  \n20472                                ['1002619128']  \n\n[20473 rows x 25 columns]",
      "text/html": "<div>\n<style scoped>\n    .dataframe tbody tr th:only-of-type {\n        vertical-align: middle;\n    }\n\n    .dataframe tbody tr th {\n        vertical-align: top;\n    }\n\n    .dataframe thead th {\n        text-align: right;\n    }\n</style>\n<table border=\"1\" class=\"dataframe\">\n  <thead>\n    <tr style=\"text-align: right;\">\n      <th></th>\n      <th>retailer</th>\n      <th>category</th>\n      <th>breadcrumb</th>\n      <th>brand</th>\n      <th>offer_url</th>\n      <th>offer_sku</th>\n      <th>offer_retailer</th>\n      <th>offer_title</th>\n      <th>title_keywords</th>\n      <th>price</th>\n      <th>...</th>\n      <th>review_user_rating</th>\n      <th>review_posted_at</th>\n      <th>review_year</th>\n      <th>review_month</th>\n      <th>review_week</th>\n      <th>review_day</th>\n      <th>review_collected_at</th>\n      <th>locale</th>\n      <th>original_offer</th>\n      <th>variant</th>\n    </tr>\n  </thead>\n  <tbody>\n    <tr>\n      <th>0</th>\n      <td>lowes</td>\n      <td>Refrigerators</td>\n      <td>[\"Appliances\", \"Refrigerators\", \"Side-by-Side ...</td>\n      <td>General Electric</td>\n      <td>https://www.lowes.com/pd/GE-25-3-cu-ft-Side-by...</td>\n      <td>1000859768</td>\n      <td>lowes</td>\n      <td>GE 25.3-cu ft Side-by-Side Refrigerator with I...</td>\n      <td>25.3':2 'by':7 'cu':3 'fingerprint':14 'finger...</td>\n      <td>NaN</td>\n      <td>...</td>\n      <td>3</td>\n      <td>2020-03-23</td>\n      <td>2020</td>\n      <td>3</td>\n      <td>13</td>\n      <td>23</td>\n      <td>2020-04-24 15:58:56</td>\n      <td>us</td>\n      <td>True</td>\n      <td>['1000859768', '1000859852']</td>\n    </tr>\n    <tr>\n      <th>1</th>\n      <td>lowes</td>\n      <td>Refrigerators</td>\n      <td>[\"Appliances\", \"Refrigerators\", \"Side-by-Side ...</td>\n      <td>General Electric</td>\n      <td>https://www.lowes.com/pd/GE-25-1-cu-ft-Side-by...</td>\n      <td>1000859852</td>\n      <td>lowes</td>\n      <td>GE 25.1-cu ft Side-by-Side Refrigerator with I...</td>\n      <td>25.1':2 'black':13 'by':7 'cu':3 'ft':4 'ge':1...</td>\n      <td>NaN</td>\n      <td>...</td>\n      <td>3</td>\n      <td>2020-03-23</td>\n      <td>2020</td>\n      <td>3</td>\n      <td>13</td>\n      <td>23</td>\n      <td>2020-04-24 14:55:13</td>\n      <td>us</td>\n      <td>False</td>\n      <td>['1000859768', '1000859852']</td>\n    </tr>\n    <tr>\n      <th>2</th>\n      <td>lowes</td>\n      <td>Refrigerators</td>\n      <td>[\"Appliances\", \"Refrigerators\", \"French Door R...</td>\n      <td>Frigidaire</td>\n      <td>https://www.lowes.com/pd/Frigidaire-Gallery-21...</td>\n      <td>1000289721</td>\n      <td>lowes</td>\n      <td>Frigidaire Gallery 21.7-cu ft Counter-depth Fr...</td>\n      <td>21.7':3 'counter':7 'counter-depth':6 'cu':4 '...</td>\n      <td>NaN</td>\n      <td>...</td>\n      <td>5</td>\n      <td>2019-09-28</td>\n      <td>2019</td>\n      <td>9</td>\n      <td>39</td>\n      <td>28</td>\n      <td>2020-03-30 23:53:02</td>\n      <td>us</td>\n      <td>True</td>\n      <td>['1000289721']</td>\n    </tr>\n    <tr>\n      <th>3</th>\n      <td>bestbuy_us</td>\n      <td>Refrigerators</td>\n      <td>[\"Best Buy\", \"Appliances\", \"Refrigerators\", \"B...</td>\n      <td>Whirlpool</td>\n      <td>https://www.bestbuy.com/site/whirlpool-21-9-cu...</td>\n      <td>3928039</td>\n      <td>bestbuy_us</td>\n      <td>Whirlpool - 21.9 Cu. Ft. Bottom-Freezer Refrig...</td>\n      <td>21.9':2 'bottom':6 'bottom-freezer':5 'cu':3 '...</td>\n      <td>NaN</td>\n      <td>...</td>\n      <td>5</td>\n      <td>2019-12-13</td>\n      <td>2019</td>\n      <td>12</td>\n      <td>50</td>\n      <td>13</td>\n      <td>2020-04-28 14:09:38</td>\n      <td>us</td>\n      <td>True</td>\n      <td>['3928039', '3928048', '3979801', '6112639']</td>\n    </tr>\n    <tr>\n      <th>4</th>\n      <td>bestbuy_us</td>\n      <td>Refrigerators</td>\n      <td>[\"Best Buy\", \"Appliances\", \"Refrigerators\", \"B...</td>\n      <td>Whirlpool</td>\n      <td>https://www.bestbuy.com/site/whirlpool-21-9-cu...</td>\n      <td>3979801</td>\n      <td>bestbuy_us</td>\n      <td>Whirlpool - 21.9 Cu. Ft. Bottom-Freezer Refrig...</td>\n      <td>21.9':2 'black':9 'bottom':6 'bottom-freezer':...</td>\n      <td>NaN</td>\n      <td>...</td>\n      <td>5</td>\n      <td>2019-12-13</td>\n      <td>2019</td>\n      <td>12</td>\n      <td>50</td>\n      <td>13</td>\n      <td>2020-04-28 14:09:42</td>\n      <td>us</td>\n      <td>False</td>\n      <td>['3928039', '3928048', '3979801', '6112639']</td>\n    </tr>\n    <tr>\n      <th>...</th>\n      <td>...</td>\n      <td>...</td>\n      <td>...</td>\n      <td>...</td>\n      <td>...</td>\n      <td>...</td>\n      <td>...</td>\n      <td>...</td>\n      <td>...</td>\n      <td>...</td>\n      <td>...</td>\n      <td>...</td>\n      <td>...</td>\n      <td>...</td>\n      <td>...</td>\n      <td>...</td>\n      <td>...</td>\n      <td>...</td>\n      <td>...</td>\n      <td>...</td>\n      <td>...</td>\n    </tr>\n    <tr>\n      <th>20468</th>\n      <td>lowes</td>\n      <td>Refrigerators</td>\n      <td>[\"Appliances\", \"Refrigerators\", \"Top-Freezer R...</td>\n      <td>Whirlpool</td>\n      <td>https://www.lowes.com/pd/Whirlpool-18-2-cu-ft-...</td>\n      <td>50285239</td>\n      <td>lowes</td>\n      <td>Whirlpool 18.2-cu ft Top-Freezer Refrigerator ...</td>\n      <td>18.2':2 'cu':3 'freezer':7 'ft':4 'refrigerato...</td>\n      <td>NaN</td>\n      <td>...</td>\n      <td>4</td>\n      <td>2019-02-14</td>\n      <td>2019</td>\n      <td>2</td>\n      <td>7</td>\n      <td>14</td>\n      <td>2020-03-30 23:16:36</td>\n      <td>us</td>\n      <td>False</td>\n      <td>['1000940596', '50285239', '50285241']</td>\n    </tr>\n    <tr>\n      <th>20469</th>\n      <td>lowes</td>\n      <td>Refrigerators</td>\n      <td>[\"Appliances\", \"Refrigerators\", \"Top-Freezer R...</td>\n      <td>Whirlpool</td>\n      <td>https://www.lowes.com/pd/Whirlpool-18-2-cu-ft-...</td>\n      <td>50285241</td>\n      <td>lowes</td>\n      <td>Whirlpool 18.2-cu ft Top-Freezer Refrigerator ...</td>\n      <td>18.2':2 'cu':3 'freezer':7 'ft':4 'monochromat...</td>\n      <td>NaN</td>\n      <td>...</td>\n      <td>4</td>\n      <td>2019-02-14</td>\n      <td>2019</td>\n      <td>2</td>\n      <td>7</td>\n      <td>14</td>\n      <td>2020-04-24 18:01:58</td>\n      <td>us</td>\n      <td>False</td>\n      <td>['1000940596', '50285239', '50285241']</td>\n    </tr>\n    <tr>\n      <th>20470</th>\n      <td>lowes</td>\n      <td>Refrigerators</td>\n      <td>[\"Appliances\", \"Refrigerators\", \"Top-Freezer R...</td>\n      <td>Whirlpool</td>\n      <td>https://www.lowes.com/pd/Whirlpool-18-2-cu-ft-...</td>\n      <td>1000940596</td>\n      <td>lowes</td>\n      <td>Whirlpool 18.2-cu ft Top-Freezer Refrigerator ...</td>\n      <td>18.2':2 'cu':3 'freezer':7 'ft':4 'ice':10 'ma...</td>\n      <td>NaN</td>\n      <td>...</td>\n      <td>4</td>\n      <td>2019-02-14</td>\n      <td>2019</td>\n      <td>2</td>\n      <td>7</td>\n      <td>14</td>\n      <td>2020-06-07 5:25:35</td>\n      <td>us</td>\n      <td>True</td>\n      <td>['1000940596', '50285239', '50285241']</td>\n    </tr>\n    <tr>\n      <th>20471</th>\n      <td>lowes</td>\n      <td>Refrigerators</td>\n      <td>[\"Appliances\", \"Refrigerators\", \"French Door R...</td>\n      <td>Kitchenaid</td>\n      <td>https://www.lowes.com/pd/KitchenAid-25-8-cu-ft...</td>\n      <td>1000029093</td>\n      <td>lowes</td>\n      <td>KitchenAid 25.8-cu ft 5-Door French Door Refri...</td>\n      <td>25.8':2 '5':5 'black':16 'cu':3 'door':6,8 'fi...</td>\n      <td>NaN</td>\n      <td>...</td>\n      <td>3</td>\n      <td>2020-01-23</td>\n      <td>2020</td>\n      <td>1</td>\n      <td>4</td>\n      <td>23</td>\n      <td>2020-03-30 22:58:38</td>\n      <td>us</td>\n      <td>True</td>\n      <td>['1000029093']</td>\n    </tr>\n    <tr>\n      <th>20472</th>\n      <td>lowes</td>\n      <td>Refrigerators</td>\n      <td>[\"Appliances\", \"Refrigerators\", \"French Door R...</td>\n      <td>General Electric</td>\n      <td>https://www.lowes.com/pd/GE-Profile-Keurig-K-C...</td>\n      <td>1002619128</td>\n      <td>lowes</td>\n      <td>GE Profile Keurig K-CUP Brewing System 18.66-c...</td>\n      <td>18.66':9 'brewing':7 'cu':10 'cup':6 'door':13...</td>\n      <td>NaN</td>\n      <td>...</td>\n      <td>5</td>\n      <td>2020-05-26</td>\n      <td>2020</td>\n      <td>5</td>\n      <td>22</td>\n      <td>26</td>\n      <td>2020-06-07 2:00:11</td>\n      <td>us</td>\n      <td>True</td>\n      <td>['1002619128']</td>\n    </tr>\n  </tbody>\n</table>\n<p>20473 rows × 25 columns</p>\n</div>"
     },
     "metadata": {},
     "execution_count": 5
    }
   ],
   "source": [
    "data_df"
   ]
  },
  {
   "cell_type": "markdown",
   "metadata": {},
   "source": [
    "# Determinando marcas com melhores reviews"
   ]
  },
  {
   "cell_type": "code",
   "execution_count": 6,
   "metadata": {},
   "outputs": [
    {
     "output_type": "execute_result",
     "data": {
      "text/plain": "array([3, 5, 2, 4, 1])"
     },
     "metadata": {},
     "execution_count": 6
    }
   ],
   "source": [
    "# Possíveis avaliações\n",
    "data_df[\"review_user_rating\"].unique()"
   ]
  },
  {
   "cell_type": "code",
   "execution_count": 10,
   "metadata": {},
   "outputs": [
    {
     "output_type": "execute_result",
     "data": {
      "text/plain": "52"
     },
     "metadata": {},
     "execution_count": 10
    }
   ],
   "source": [
    "# Marcas\n",
    "len(data_df[\"brand\"].unique())"
   ]
  },
  {
   "cell_type": "code",
   "execution_count": 7,
   "metadata": {},
   "outputs": [],
   "source": [
    "brands_df = data_df[[\"brand\", \"review_user_rating\"]].groupby(\"brand\").mean()"
   ]
  },
  {
   "cell_type": "code",
   "execution_count": 14,
   "metadata": {},
   "outputs": [
    {
     "output_type": "execute_result",
     "data": {
      "text/plain": "                  review_user_rating\nbrand                               \nAkdy                        5.000000\nThomson                     5.000000\nNostalgia                   5.000000\nGladiator                   5.000000\nFarberware                  5.000000\nEdgestar                    5.000000\nDanby Designer              5.000000\nSilhouette                  5.000000\nCosmo                       5.000000\nPepsi                       5.000000\nAvallon                     5.000000\nUnique                      5.000000\nPremium                     4.833333\nArctic Fresh                4.666667\nBosch                       4.454545\nHaier                       4.372881\nGeneral Electric            4.317541\nHisense                     4.285714\nRca                         4.272727\nInsigniaÃ¢ÂË              4.267081",
      "text/html": "<div>\n<style scoped>\n    .dataframe tbody tr th:only-of-type {\n        vertical-align: middle;\n    }\n\n    .dataframe tbody tr th {\n        vertical-align: top;\n    }\n\n    .dataframe thead th {\n        text-align: right;\n    }\n</style>\n<table border=\"1\" class=\"dataframe\">\n  <thead>\n    <tr style=\"text-align: right;\">\n      <th></th>\n      <th>review_user_rating</th>\n    </tr>\n    <tr>\n      <th>brand</th>\n      <th></th>\n    </tr>\n  </thead>\n  <tbody>\n    <tr>\n      <th>Akdy</th>\n      <td>5.000000</td>\n    </tr>\n    <tr>\n      <th>Thomson</th>\n      <td>5.000000</td>\n    </tr>\n    <tr>\n      <th>Nostalgia</th>\n      <td>5.000000</td>\n    </tr>\n    <tr>\n      <th>Gladiator</th>\n      <td>5.000000</td>\n    </tr>\n    <tr>\n      <th>Farberware</th>\n      <td>5.000000</td>\n    </tr>\n    <tr>\n      <th>Edgestar</th>\n      <td>5.000000</td>\n    </tr>\n    <tr>\n      <th>Danby Designer</th>\n      <td>5.000000</td>\n    </tr>\n    <tr>\n      <th>Silhouette</th>\n      <td>5.000000</td>\n    </tr>\n    <tr>\n      <th>Cosmo</th>\n      <td>5.000000</td>\n    </tr>\n    <tr>\n      <th>Pepsi</th>\n      <td>5.000000</td>\n    </tr>\n    <tr>\n      <th>Avallon</th>\n      <td>5.000000</td>\n    </tr>\n    <tr>\n      <th>Unique</th>\n      <td>5.000000</td>\n    </tr>\n    <tr>\n      <th>Premium</th>\n      <td>4.833333</td>\n    </tr>\n    <tr>\n      <th>Arctic Fresh</th>\n      <td>4.666667</td>\n    </tr>\n    <tr>\n      <th>Bosch</th>\n      <td>4.454545</td>\n    </tr>\n    <tr>\n      <th>Haier</th>\n      <td>4.372881</td>\n    </tr>\n    <tr>\n      <th>General Electric</th>\n      <td>4.317541</td>\n    </tr>\n    <tr>\n      <th>Hisense</th>\n      <td>4.285714</td>\n    </tr>\n    <tr>\n      <th>Rca</th>\n      <td>4.272727</td>\n    </tr>\n    <tr>\n      <th>InsigniaÃ¢ÂË</th>\n      <td>4.267081</td>\n    </tr>\n  </tbody>\n</table>\n</div>"
     },
     "metadata": {},
     "execution_count": 14
    }
   ],
   "source": [
    "brands_df.sort_values(by=\"review_user_rating\", ascending=False).head(20)"
   ]
  },
  {
   "cell_type": "markdown",
   "metadata": {},
   "source": [
    "# Revendedores com melhores avaliações"
   ]
  },
  {
   "cell_type": "code",
   "execution_count": 15,
   "metadata": {},
   "outputs": [],
   "source": [
    "retailer_df = data_df[[\"offer_retailer\", \"review_user_rating\"]].groupby(\"offer_retailer\").mean()"
   ]
  },
  {
   "cell_type": "code",
   "execution_count": 18,
   "metadata": {},
   "outputs": [
    {
     "output_type": "execute_result",
     "data": {
      "text/plain": "                review_user_rating\noffer_retailer                    \nsamsung_us                4.404110\nwalmart_us                4.374622\nlowes                     4.278105\nsamsclub                  4.250000\nbestbuy_us                4.227348",
      "text/html": "<div>\n<style scoped>\n    .dataframe tbody tr th:only-of-type {\n        vertical-align: middle;\n    }\n\n    .dataframe tbody tr th {\n        vertical-align: top;\n    }\n\n    .dataframe thead th {\n        text-align: right;\n    }\n</style>\n<table border=\"1\" class=\"dataframe\">\n  <thead>\n    <tr style=\"text-align: right;\">\n      <th></th>\n      <th>review_user_rating</th>\n    </tr>\n    <tr>\n      <th>offer_retailer</th>\n      <th></th>\n    </tr>\n  </thead>\n  <tbody>\n    <tr>\n      <th>samsung_us</th>\n      <td>4.404110</td>\n    </tr>\n    <tr>\n      <th>walmart_us</th>\n      <td>4.374622</td>\n    </tr>\n    <tr>\n      <th>lowes</th>\n      <td>4.278105</td>\n    </tr>\n    <tr>\n      <th>samsclub</th>\n      <td>4.250000</td>\n    </tr>\n    <tr>\n      <th>bestbuy_us</th>\n      <td>4.227348</td>\n    </tr>\n  </tbody>\n</table>\n</div>"
     },
     "metadata": {},
     "execution_count": 18
    }
   ],
   "source": [
    "retailer_df.sort_values(by=\"review_user_rating\", ascending=False).head()"
   ]
  },
  {
   "cell_type": "code",
   "execution_count": null,
   "metadata": {},
   "outputs": [],
   "source": []
  }
 ]
}